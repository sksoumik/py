{
  "nbformat": 4,
  "nbformat_minor": 5,
  "metadata": {
    "kernelspec": {
      "display_name": "Python 3",
      "language": "python",
      "name": "python3"
    },
    "language_info": {
      "codemirror_mode": {
        "name": "ipython",
        "version": 3
      },
      "file_extension": ".py",
      "mimetype": "text/x-python",
      "name": "python",
      "nbconvert_exporter": "python",
      "pygments_lexer": "ipython3",
      "version": "3.8.8"
    },
    "colab": {
      "name": "snippets.ipynb",
      "provenance": [],
      "collapsed_sections": [],
      "include_colab_link": true
    }
  },
  "cells": [
    {
      "cell_type": "markdown",
      "metadata": {
        "id": "view-in-github",
        "colab_type": "text"
      },
      "source": [
        "<a href=\"https://colab.research.google.com/github/sksoumik/py/blob/main/snippets.ipynb\" target=\"_parent\"><img src=\"https://colab.research.google.com/assets/colab-badge.svg\" alt=\"Open In Colab\"/></a>"
      ]
    },
    {
      "cell_type": "markdown",
      "metadata": {
        "id": "ea75059a"
      },
      "source": [
        "## Save all items of a list in a line separated text file"
      ],
      "id": "ea75059a"
    },
    {
      "cell_type": "code",
      "metadata": {
        "id": "4cb87bfa"
      },
      "source": [
        "lst = ['Sample text 1', 'sample text 2', 'sample text 3', 'sample text 4']\n",
        "\n",
        "SAVE_DIR = 'my_list.txt'\n",
        "with open(SAVE_DIR, mode='wt', encoding='utf-8') as myfile:\n",
        "    myfile.write('\\n'.join(lst))"
      ],
      "id": "4cb87bfa",
      "execution_count": 3,
      "outputs": []
    },
    {
      "cell_type": "code",
      "metadata": {
        "id": "49264d81"
      },
      "source": [
        ""
      ],
      "id": "49264d81",
      "execution_count": null,
      "outputs": []
    }
  ]
}