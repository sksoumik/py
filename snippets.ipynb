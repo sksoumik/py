{
  "nbformat": 4,
  "nbformat_minor": 5,
  "metadata": {
    "kernelspec": {
      "display_name": "Python 3",
      "language": "python",
      "name": "python3"
    },
    "language_info": {
      "codemirror_mode": {
        "name": "ipython",
        "version": 3
      },
      "file_extension": ".py",
      "mimetype": "text/x-python",
      "name": "python",
      "nbconvert_exporter": "python",
      "pygments_lexer": "ipython3",
      "version": "3.8.8"
    },
    "colab": {
      "name": "snippets.ipynb",
      "provenance": [],
      "collapsed_sections": [],
      "include_colab_link": true
    }
  },
  "cells": [
    {
      "cell_type": "markdown",
      "metadata": {
        "id": "view-in-github",
        "colab_type": "text"
      },
      "source": [
        "<a href=\"https://colab.research.google.com/github/sksoumik/py/blob/main/snippets.ipynb\" target=\"_parent\"><img src=\"https://colab.research.google.com/assets/colab-badge.svg\" alt=\"Open In Colab\"/></a>"
      ]
    },
    {
      "cell_type": "markdown",
      "metadata": {
        "id": "ea75059a"
      },
      "source": [
        "## Save all items of a list in a line separated text file"
      ],
      "id": "ea75059a"
    },
    {
      "cell_type": "code",
      "metadata": {
        "id": "4cb87bfa"
      },
      "source": [
        "lst = ['Sample text 1', 'sample text 2', 'sample text 3', 'sample text 4']\n",
        "\n",
        "SAVE_DIR = 'my_list.txt'\n",
        "\n",
        "with open(SAVE_DIR, mode='wt', encoding='utf-8') as myfile:\n",
        "    myfile.write('\\n'.join(lst))"
      ],
      "id": "4cb87bfa",
      "execution_count": null,
      "outputs": []
    },
    {
      "cell_type": "markdown",
      "metadata": {
        "id": "m4OuF6SbWeit"
      },
      "source": [
        "## Shift characters of strings"
      ],
      "id": "m4OuF6SbWeit"
    },
    {
      "cell_type": "code",
      "metadata": {
        "id": "jCu2HoJLWhCZ"
      },
      "source": [
        "def get_shifted_string(s, left_shift_idx, right_shift_idx):\n",
        "    i = (left_shift_idx - right_shift_idx) % len(s)\n",
        "    return s[i:] + s[:i]"
      ],
      "id": "jCu2HoJLWhCZ",
      "execution_count": null,
      "outputs": []
    },
    {
      "cell_type": "code",
      "metadata": {
        "colab": {
          "base_uri": "https://localhost:8080/",
          "height": 55
        },
        "id": "pulvPdqKWhkO",
        "outputId": "43e338f1-7d11-496c-bc82-85a745d0fa01"
      },
      "source": [
        "s = \"facebook\"\n",
        "get_shifted_string(s, 4, len(s))"
      ],
      "id": "pulvPdqKWhkO",
      "execution_count": null,
      "outputs": [
        {
          "output_type": "stream",
          "name": "stdout",
          "text": [
            "4\n"
          ]
        },
        {
          "output_type": "execute_result",
          "data": {
            "application/vnd.google.colaboratory.intrinsic+json": {
              "type": "string"
            },
            "text/plain": [
              "'bookface'"
            ]
          },
          "metadata": {},
          "execution_count": 19
        }
      ]
    },
    {
      "cell_type": "markdown",
      "metadata": {
        "id": "O6S-3lVPcoqk"
      },
      "source": [
        "## Modulas operator\n",
        "If the right side number is higher than the left side, the result is always the left side"
      ],
      "id": "O6S-3lVPcoqk"
    },
    {
      "cell_type": "code",
      "metadata": {
        "colab": {
          "base_uri": "https://localhost:8080/"
        },
        "id": "jJXzAj76awcu",
        "outputId": "e853e6c2-6db0-4d7d-86c7-86a25899a661"
      },
      "source": [
        "4 % 10"
      ],
      "id": "jJXzAj76awcu",
      "execution_count": null,
      "outputs": [
        {
          "output_type": "execute_result",
          "data": {
            "text/plain": [
              "4"
            ]
          },
          "metadata": {},
          "execution_count": 31
        }
      ]
    },
    {
      "cell_type": "code",
      "metadata": {
        "colab": {
          "base_uri": "https://localhost:8080/"
        },
        "id": "rPjyR4xga0Fd",
        "outputId": "5ad16769-4d07-4e93-f231-ad1318036baa"
      },
      "source": [
        "4 % 5"
      ],
      "id": "rPjyR4xga0Fd",
      "execution_count": null,
      "outputs": [
        {
          "output_type": "execute_result",
          "data": {
            "text/plain": [
              "4"
            ]
          },
          "metadata": {},
          "execution_count": 33
        }
      ]
    },
    {
      "cell_type": "markdown",
      "metadata": {
        "id": "6V4jF89Kc_aM"
      },
      "source": [
        "## Taking multiple inputs"
      ],
      "id": "6V4jF89Kc_aM"
    },
    {
      "cell_type": "code",
      "metadata": {
        "colab": {
          "base_uri": "https://localhost:8080/"
        },
        "id": "tBWEbtlxhp2K",
        "outputId": "0e53861c-e6e4-4fdd-97c9-92b75abeafb3"
      },
      "source": [
        "# input two integers\n",
        "\n",
        "a, b = map(int, input().split())\n",
        "\n",
        "print(f\"a = {a}; b = {b}\")"
      ],
      "id": "tBWEbtlxhp2K",
      "execution_count": null,
      "outputs": [
        {
          "output_type": "stream",
          "name": "stdout",
          "text": [
            "10 20\n",
            "a = 10; b = 20\n"
          ]
        }
      ]
    },
    {
      "cell_type": "code",
      "metadata": {
        "colab": {
          "base_uri": "https://localhost:8080/"
        },
        "id": "_S9zK-gchxxW",
        "outputId": "357dc254-390e-4703-c83f-7b7bc4082240"
      },
      "source": [
        "# input a list of integers\n",
        "\n",
        "l = list(map(int, input().split()))\n",
        "print(l)"
      ],
      "id": "_S9zK-gchxxW",
      "execution_count": null,
      "outputs": [
        {
          "output_type": "stream",
          "name": "stdout",
          "text": [
            "10 20 30 40\n",
            "[10, 20, 30, 40]\n"
          ]
        }
      ]
    },
    {
      "cell_type": "code",
      "metadata": {
        "colab": {
          "base_uri": "https://localhost:8080/"
        },
        "id": "-K9zz6JgiXAs",
        "outputId": "0d101bb5-e4f6-4474-a736-7a6d3a26d8b1"
      },
      "source": [
        "# input a list of strings\n",
        "\n",
        "l = list(map(str, input().split()))\n",
        "print(l)"
      ],
      "id": "-K9zz6JgiXAs",
      "execution_count": null,
      "outputs": [
        {
          "output_type": "stream",
          "name": "stdout",
          "text": [
            "apple google facebook\n",
            "['apple', 'google', 'facebook']\n"
          ]
        }
      ]
    },
    {
      "cell_type": "markdown",
      "metadata": {
        "id": "FcwFmKAUjCmq"
      },
      "source": [
        "## Check for an Anagram\n",
        "An anagram is a word that is formed by rearranging the letters of a different word, using all the original letters exactly once."
      ],
      "id": "FcwFmKAUjCmq"
    },
    {
      "cell_type": "code",
      "metadata": {
        "id": "mpKknAIEioij"
      },
      "source": [
        "def check_anagram(first_string, second_string):\n",
        "    return sorted(first_string) == sorted(second_string)"
      ],
      "id": "mpKknAIEioij",
      "execution_count": null,
      "outputs": []
    },
    {
      "cell_type": "code",
      "metadata": {
        "colab": {
          "base_uri": "https://localhost:8080/"
        },
        "id": "mHEwXzwrjXat",
        "outputId": "2d7b3ae0-9721-4368-8c54-438cbf0479e4"
      },
      "source": [
        "check_anagram(\"silent\", \"listen\")"
      ],
      "id": "mHEwXzwrjXat",
      "execution_count": null,
      "outputs": [
        {
          "output_type": "execute_result",
          "data": {
            "text/plain": [
              "True"
            ]
          },
          "metadata": {},
          "execution_count": 42
        }
      ]
    },
    {
      "cell_type": "code",
      "metadata": {
        "colab": {
          "base_uri": "https://localhost:8080/"
        },
        "id": "f-goGyWmjgCS",
        "outputId": "269aca96-911d-438b-d5cf-3e6cab9794fd"
      },
      "source": [
        "check_anagram(\"apple\", \"applo\")"
      ],
      "id": "f-goGyWmjgCS",
      "execution_count": null,
      "outputs": [
        {
          "output_type": "execute_result",
          "data": {
            "text/plain": [
              "False"
            ]
          },
          "metadata": {},
          "execution_count": 43
        }
      ]
    },
    {
      "cell_type": "code",
      "metadata": {
        "id": "j6Yxr-Xyjld4"
      },
      "source": [
        "# method 3\n",
        "\n",
        "from collections import Counter\n",
        "\n",
        "def check_anagram_v2(first_string, second_string):\n",
        "    return Counter(first_string) == Counter(second_string)"
      ],
      "id": "j6Yxr-Xyjld4",
      "execution_count": null,
      "outputs": []
    },
    {
      "cell_type": "code",
      "metadata": {
        "colab": {
          "base_uri": "https://localhost:8080/"
        },
        "id": "B5jUbkiGvDBA",
        "outputId": "64784626-e0a1-4217-8b8e-ae55bbbc5c0c"
      },
      "source": [
        "check_anagram_v2(\"silent\", \"listen\")"
      ],
      "id": "B5jUbkiGvDBA",
      "execution_count": null,
      "outputs": [
        {
          "output_type": "execute_result",
          "data": {
            "text/plain": [
              "True"
            ]
          },
          "metadata": {},
          "execution_count": 46
        }
      ]
    },
    {
      "cell_type": "markdown",
      "metadata": {
        "id": "RYNhO548vZub"
      },
      "source": [
        "## Randomly select few samples from a list"
      ],
      "id": "RYNhO548vZub"
    },
    {
      "cell_type": "code",
      "metadata": {
        "id": "xBWNV-vOvWI1"
      },
      "source": [
        "import random\n",
        "\n",
        "# create some random numbers\n",
        "sample_list = []\n",
        "\n",
        "for _ in range(100):\n",
        "    sample_list.append(random.randint(10, 1000))  # creates 100 integers in the range of [10, 1000]"
      ],
      "id": "xBWNV-vOvWI1",
      "execution_count": null,
      "outputs": []
    },
    {
      "cell_type": "code",
      "metadata": {
        "colab": {
          "base_uri": "https://localhost:8080/"
        },
        "id": "TA9XwO8VfwHF",
        "outputId": "fd4a8e14-b4e7-4763-f591-503be18243e6"
      },
      "source": [
        "# randomly select 10 items from the sample_list\n",
        "selected_sample = random.sample(sample_list, 10)\n",
        "print(selected_sample)"
      ],
      "id": "TA9XwO8VfwHF",
      "execution_count": null,
      "outputs": [
        {
          "output_type": "stream",
          "name": "stdout",
          "text": [
            "[808, 827, 285, 142, 710, 484, 534, 459, 188, 186]\n"
          ]
        }
      ]
    },
    {
      "cell_type": "markdown",
      "metadata": {
        "id": "l74BF-8JjE9X"
      },
      "source": [
        "## Sort a list of strings using brute-force"
      ],
      "id": "l74BF-8JjE9X"
    },
    {
      "cell_type": "code",
      "metadata": {
        "colab": {
          "base_uri": "https://localhost:8080/"
        },
        "id": "QW4WiUG2ifk6",
        "outputId": "b0945650-6f04-4cf6-aa14-501094931eb1"
      },
      "source": [
        "def sort_list(list_to_sort):\n",
        "    for i in range(len(list_to_sort)):\n",
        "        for j in range(len(list_to_sort)):\n",
        "            if list_to_sort[i] < list_to_sort[j]:\n",
        "                temp = list_to_sort[i]\n",
        "                list_to_sort[i] = list_to_sort[j]\n",
        "                list_to_sort[j] = temp\n",
        "    return list_to_sort\n",
        "\n",
        "\n",
        "if __name__ == \"__main__\":\n",
        "    list_to_sort = [\"apple\", \"google\", \"microsoft\", \"facebook\", \"amazon\", \"twitter\"]\n",
        "    print(sort_list(list_to_sort))"
      ],
      "id": "QW4WiUG2ifk6",
      "execution_count": null,
      "outputs": [
        {
          "output_type": "stream",
          "name": "stdout",
          "text": [
            "['amazon', 'apple', 'facebook', 'google', 'microsoft', 'twitter']\n"
          ]
        }
      ]
    },
    {
      "cell_type": "markdown",
      "metadata": {
        "id": "eVSpQOcVG-mB"
      },
      "source": [
        "## Adding elements of two different lists"
      ],
      "id": "eVSpQOcVG-mB"
    },
    {
      "cell_type": "code",
      "metadata": {
        "colab": {
          "base_uri": "https://localhost:8080/"
        },
        "id": "DS4NhVU1sBFP",
        "outputId": "e86efd09-fc53-4441-d13b-fa860d15b616"
      },
      "source": [
        "# method 1\n",
        "def add_element(list1, list2):\n",
        "    list3 = []\n",
        "    for i in range(len(list1)):\n",
        "        list3.append(list1[i] + list2[i])\n",
        "    return list3\n",
        "\n",
        "\n",
        "if __name__ == \"__main__\":\n",
        "    list1 = [1, 2, 3]\n",
        "    list2 = [4, 5, 6]\n",
        "    print(add_element(list1, list2))"
      ],
      "id": "DS4NhVU1sBFP",
      "execution_count": null,
      "outputs": [
        {
          "output_type": "stream",
          "name": "stdout",
          "text": [
            "[5, 7, 9]\n"
          ]
        }
      ]
    },
    {
      "cell_type": "code",
      "metadata": {
        "colab": {
          "base_uri": "https://localhost:8080/"
        },
        "id": "WhzEx1K3Hrf9",
        "outputId": "cddfc2cd-9fe9-4add-d27d-fe62c7c11769"
      },
      "source": [
        "# method 2\n",
        "def add_element(list1, list2):\n",
        "    res = [x + y for x,y in zip(list1, list2)]\n",
        "    return res\n",
        "\n",
        "\n",
        "if __name__ == \"__main__\":\n",
        "    list1 = [1, 2, 3]\n",
        "    list2 = [4, 5, 6]\n",
        "    print(add_element(list1, list2))\n"
      ],
      "id": "WhzEx1K3Hrf9",
      "execution_count": null,
      "outputs": [
        {
          "output_type": "stream",
          "name": "stdout",
          "text": [
            "[5, 7, 9]\n"
          ]
        }
      ]
    },
    {
      "cell_type": "code",
      "metadata": {
        "colab": {
          "base_uri": "https://localhost:8080/"
        },
        "id": "d9VN5oplIMXm",
        "outputId": "f3a264cf-c63c-4812-805b-e6919647341a"
      },
      "source": [
        "list1 = [1, 2, 3]\n",
        "list2 = [4, 5, 6]\n",
        "list(zip(list1, list2))"
      ],
      "id": "d9VN5oplIMXm",
      "execution_count": null,
      "outputs": [
        {
          "output_type": "execute_result",
          "data": {
            "text/plain": [
              "[(1, 4), (2, 5), (3, 6)]"
            ]
          },
          "metadata": {},
          "execution_count": 13
        }
      ]
    },
    {
      "cell_type": "markdown",
      "metadata": {
        "id": "5WDLraLZIiO2"
      },
      "source": [
        "## Sort a dictionary by its value in ascending order"
      ],
      "id": "5WDLraLZIiO2"
    },
    {
      "cell_type": "code",
      "metadata": {
        "colab": {
          "base_uri": "https://localhost:8080/"
        },
        "id": "mfeqFrDaIWjA",
        "outputId": "792981e6-5967-477f-a513-999d3500f14f"
      },
      "source": [
        "def sort_dict_by_value(d):\n",
        "    return sorted(d.items(), key=lambda x: x[1], reverse=False)\n",
        "\n",
        "\n",
        "if __name__ == \"__main__\":\n",
        "    d = {\"a\": 1, \"b\": 2, \"c\": 3}\n",
        "    print(sort_dict_by_value(d))"
      ],
      "id": "mfeqFrDaIWjA",
      "execution_count": null,
      "outputs": [
        {
          "output_type": "stream",
          "name": "stdout",
          "text": [
            "[('a', 1), ('b', 2), ('c', 3)]\n"
          ]
        }
      ]
    },
    {
      "cell_type": "markdown",
      "metadata": {
        "id": "WTsF2LltUHg_"
      },
      "source": [
        "## Code execution time"
      ],
      "id": "WTsF2LltUHg_"
    },
    {
      "cell_type": "code",
      "metadata": {
        "colab": {
          "base_uri": "https://localhost:8080/"
        },
        "id": "gUaPBI8XJQg0",
        "outputId": "e0f9b2a2-db3f-4765-e5f5-39b1027ddd33"
      },
      "source": [
        "import time\n",
        "\n",
        "start_time = time.time()\n",
        "\n",
        "total = 0\n",
        "\n",
        "for i in range(10):\n",
        "  total += i\n",
        "print(\"Sum:\", total)\n",
        "\n",
        "end_time = time.time()\n",
        "time_taken = end_time - start_time\n",
        "print(\"Time: \", time_taken)"
      ],
      "id": "gUaPBI8XJQg0",
      "execution_count": null,
      "outputs": [
        {
          "output_type": "stream",
          "name": "stdout",
          "text": [
            "Sum: 45\n",
            "Time:  0.0015342235565185547\n"
          ]
        }
      ]
    },
    {
      "cell_type": "markdown",
      "metadata": {
        "id": "xDmaHhfaU65N"
      },
      "source": [
        "## Find the most occuring element in a list"
      ],
      "id": "xDmaHhfaU65N"
    },
    {
      "cell_type": "code",
      "metadata": {
        "colab": {
          "base_uri": "https://localhost:8080/"
        },
        "id": "tzfMh31FUKEZ",
        "outputId": "d776537b-aa02-4cc7-d4d6-de46298619d0"
      },
      "source": [
        "# find the most occuring element in a list\n",
        "def most_occuring(lst):\n",
        "    return max(lst, key=lst.count)\n",
        "\n",
        "\n",
        "# find the least occuring element in a list\n",
        "def least_occuring(lst):\n",
        "    return min(lst, key=lst.count)\n",
        "\n",
        "\n",
        "if __name__ == \"__main__\":\n",
        "    lst = [1, 2, 1, 4, 5, 1, 4, 2, 2, 1]\n",
        "    print(most_occuring(lst))\n",
        "    print(least_occuring(lst))"
      ],
      "id": "tzfMh31FUKEZ",
      "execution_count": null,
      "outputs": [
        {
          "output_type": "stream",
          "name": "stdout",
          "text": [
            "1\n",
            "5\n"
          ]
        }
      ]
    },
    {
      "cell_type": "markdown",
      "metadata": {
        "id": "8rBCOzK-Wxm5"
      },
      "source": [
        "## Chunk a list into different parts"
      ],
      "id": "8rBCOzK-Wxm5"
    },
    {
      "cell_type": "code",
      "metadata": {
        "id": "vcW8GjLUVla2",
        "colab": {
          "base_uri": "https://localhost:8080/"
        },
        "outputId": "8b568adf-843d-4045-d647-461a3db76533"
      },
      "source": [
        "def chunk_list(list, chunk_size):\n",
        "    return [list[i : i + chunk_size] for i in range(0, len(list), chunk_size)]\n",
        "\n",
        "\n",
        "if __name__ == \"__main__\":\n",
        "    list = [2, 1, 2, 3, 4, 5, 6, 7, 8, 9, 10, 11, 12, 13, 14, 15, 16, 17]\n",
        "    print(chunk_list(list, 4))\n"
      ],
      "id": "vcW8GjLUVla2",
      "execution_count": null,
      "outputs": [
        {
          "output_type": "stream",
          "name": "stdout",
          "text": [
            "[[2, 1, 2, 3], [4, 5, 6, 7], [8, 9, 10, 11], [12, 13, 14, 15], [16, 17]]\n"
          ]
        }
      ]
    },
    {
      "cell_type": "markdown",
      "metadata": {
        "id": "HNwnQDGYXiC9"
      },
      "source": [
        "## calculator without if else"
      ],
      "id": "HNwnQDGYXiC9"
    },
    {
      "cell_type": "code",
      "metadata": {
        "colab": {
          "base_uri": "https://localhost:8080/"
        },
        "id": "TLA1_5ZqW400",
        "outputId": "19b81ae6-4d20-4307-c3fe-72352fa1aec6"
      },
      "source": [
        "import operator\n",
        "\n",
        "operator_map = {\n",
        "    '+': operator.add,\n",
        "    '-': operator.sub,\n",
        "    '*': operator.mul,\n",
        "    '/': operator.truediv\n",
        "}\n",
        "\n",
        "print(operator_map['/'](50, 5))\n",
        "print(operator_map['-'](15, 10))"
      ],
      "id": "TLA1_5ZqW400",
      "execution_count": null,
      "outputs": [
        {
          "output_type": "stream",
          "name": "stdout",
          "text": [
            "10.0\n",
            "5\n"
          ]
        }
      ]
    },
    {
      "cell_type": "markdown",
      "metadata": {
        "id": "77hh3le5-5wC"
      },
      "source": [
        "## Check wheather a "
      ],
      "id": "77hh3le5-5wC"
    },
    {
      "cell_type": "code",
      "metadata": {
        "id": "p6X5d7NlYMqi"
      },
      "source": [
        ""
      ],
      "id": "p6X5d7NlYMqi",
      "execution_count": null,
      "outputs": []
    }
  ]
}