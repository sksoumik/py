{
 "cells": [
  {
   "cell_type": "markdown",
   "id": "ea75059a",
   "metadata": {},
   "source": [
    "doc print"
   ]
  },
  {
   "cell_type": "code",
   "execution_count": 3,
   "id": "4cb87bfa",
   "metadata": {},
   "outputs": [
    {
     "name": "stdout",
     "output_type": "stream",
     "text": [
      "\n",
      "99.33\n",
      "TP\n",
      "TN\n",
      "FP\n",
      "FN\n",
      "\n"
     ]
    }
   ],
   "source": [
    "acc = 99.32666\n",
    "\n",
    "doc_print = f\"\"\"\n",
    "{round(acc, 2)}\n",
    "TP\n",
    "TN\n",
    "FP\n",
    "FN\n",
    "\"\"\"\n",
    "print(doc_print)"
   ]
  },
  {
   "cell_type": "code",
   "execution_count": null,
   "id": "49264d81",
   "metadata": {},
   "outputs": [],
   "source": []
  }
 ],
 "metadata": {
  "kernelspec": {
   "display_name": "Python 3",
   "language": "python",
   "name": "python3"
  },
  "language_info": {
   "codemirror_mode": {
    "name": "ipython",
    "version": 3
   },
   "file_extension": ".py",
   "mimetype": "text/x-python",
   "name": "python",
   "nbconvert_exporter": "python",
   "pygments_lexer": "ipython3",
   "version": "3.8.8"
  }
 },
 "nbformat": 4,
 "nbformat_minor": 5
}
